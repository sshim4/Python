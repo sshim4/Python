{
 "cells": [
  {
   "cell_type": "markdown",
   "id": "9058d4f4",
   "metadata": {},
   "source": [
    "__<span style=\"color:blue\">File name: Introduction to Python_1.1</span>__"
   ]
  },
  {
   "cell_type": "markdown",
   "id": "d0eba828",
   "metadata": {},
   "source": [
    "### I. The Python Basics"
   ]
  },
  {
   "cell_type": "markdown",
   "id": "deae60a3",
   "metadata": {},
   "source": [
    "### 1. Simple Calculation"
   ]
  },
  {
   "cell_type": "code",
   "execution_count": 1,
   "id": "5522be9f",
   "metadata": {},
   "outputs": [
    {
     "name": "stdout",
     "output_type": "stream",
     "text": [
      "3\n",
      "4\n",
      "12\n",
      "25\n",
      "5.0\n",
      "0\n",
      "1\n"
     ]
    }
   ],
   "source": [
    "print(1 + 2) # Addition\n",
    "print(5 - 1) # subtraction\n",
    "print(4 * 3) # multiplication\n",
    "print(5**2) # exponentiaion\n",
    "print(10/2) # Division\n",
    "print(14 % 7) # modulo: returs the remainder of the division of the number to the left by the number on its right.\n",
    "print(15 % 7)"
   ]
  },
  {
   "cell_type": "code",
   "execution_count": 2,
   "id": "e33f6dbd",
   "metadata": {},
   "outputs": [
    {
     "data": {
      "text/plain": [
       "12"
      ]
     },
     "execution_count": 2,
     "metadata": {},
     "output_type": "execute_result"
    }
   ],
   "source": [
    "(1 + 2)\n",
    "(5 - 1)\n",
    "(4 * 3)"
   ]
  },
  {
   "cell_type": "markdown",
   "id": "e4feb197",
   "metadata": {},
   "source": [
    "__Exercise__: Calculate $ 1 + 3 \\times 5 - 10 $ "
   ]
  },
  {
   "cell_type": "code",
   "execution_count": 3,
   "id": "dfa0da03",
   "metadata": {},
   "outputs": [
    {
     "data": {
      "text/plain": [
       "6"
      ]
     },
     "execution_count": 3,
     "metadata": {},
     "output_type": "execute_result"
    }
   ],
   "source": [
    "1+(3*5)-10"
   ]
  },
  {
   "cell_type": "code",
   "execution_count": 4,
   "id": "5839e567",
   "metadata": {},
   "outputs": [
    {
     "data": {
      "text/plain": [
       "6"
      ]
     },
     "execution_count": 4,
     "metadata": {},
     "output_type": "execute_result"
    }
   ],
   "source": [
    "1+3*5-10"
   ]
  },
  {
   "cell_type": "markdown",
   "id": "feb9f15f",
   "metadata": {},
   "source": [
    "### 2. Variables and Types"
   ]
  },
  {
   "cell_type": "markdown",
   "id": "e9312401",
   "metadata": {},
   "source": [
    "* Python has 4 types of variables. Text(String), Ingeter, Real Number(float), Boolean(true 1,false 0)\n",
    "* We can check variable type using type(variable name)"
   ]
  },
  {
   "cell_type": "code",
   "execution_count": 40,
   "id": "db01c41d",
   "metadata": {},
   "outputs": [
    {
     "name": "stdout",
     "output_type": "stream",
     "text": [
      "<class 'int'>\n",
      "<class 'str'>\n",
      "<class 'bool'>\n",
      "<class 'float'>\n",
      "<class 'int'>\n"
     ]
    }
   ],
   "source": [
    "# Create variables\n",
    "a = 100\n",
    "b = 'Hello'\n",
    "c = True\n",
    "d = 100.11\n",
    "e = 0\n",
    "\n",
    "# Check type of variables\n",
    "print(type(a))\n",
    "print(type(b))\n",
    "print(type(c))\n",
    "print(type(d))\n",
    "print(type(e))"
   ]
  },
  {
   "cell_type": "markdown",
   "id": "3a88bd8e",
   "metadata": {},
   "source": [
    "__Example__: Create a variable desc"
   ]
  },
  {
   "cell_type": "code",
   "execution_count": 41,
   "id": "32e24123",
   "metadata": {},
   "outputs": [
    {
     "name": "stdout",
     "output_type": "stream",
     "text": [
      "HelloHello\n"
     ]
    }
   ],
   "source": [
    "desc = 'Hello'\n",
    "double_desc= desc + desc\n",
    "print(double_desc)"
   ]
  },
  {
   "cell_type": "markdown",
   "id": "70d53a09",
   "metadata": {},
   "source": [
    "__Convert Python values :__\n",
    "* str() : string, text\n",
    "* int() : integer numbers\n",
    "* float() : real numbers\n",
    "* bool() : True, False"
   ]
  },
  {
   "cell_type": "code",
   "execution_count": 42,
   "id": "f5abf74c",
   "metadata": {},
   "outputs": [
    {
     "name": "stdout",
     "output_type": "stream",
     "text": [
      "100\n",
      "100.0\n",
      "100\n",
      "False\n"
     ]
    }
   ],
   "source": [
    "# Convert a variabale type\n",
    "str_a   = str(a)\n",
    "float_a = float(a)\n",
    "int_d   = int(d)\n",
    "bool_e  = bool(e)\n",
    "\n",
    "# Check values of variables\n",
    "print(str_a)\n",
    "print(float_a)\n",
    "print(int_d)\n",
    "print(bool_e)"
   ]
  },
  {
   "cell_type": "markdown",
   "id": "e1b31bf2",
   "metadata": {},
   "source": [
    "__Example__: Suppose we invest fixed deposit $ 100 with annual component interest 10\\% and maturity 10years.\n",
    "\n",
    "$$ Principle ( 1 + annual \\, interest \\, rate) ^ {n \\, years} $$"
   ]
  },
  {
   "cell_type": "code",
   "execution_count": 35,
   "id": "7a3bd9ce",
   "metadata": {},
   "outputs": [
    {
     "name": "stdout",
     "output_type": "stream",
     "text": [
      "259.3742460100002\n",
      "I started with $100 and now have $259.3742460100002. Awesome!\n"
     ]
    }
   ],
   "source": [
    "# Create a variable principle\n",
    "principal = 100\n",
    "\n",
    "# Create a variable growth_multiplier (annumal compount interest is 10%)\n",
    "growth_multiplier = 1.1\n",
    "\n",
    "# Calculate result \n",
    "result = principal * (1.1 ** 10) \n",
    "\n",
    "# Print out result\n",
    "print(result)\n",
    "\n",
    "# Print out a sentence\n",
    "print(\"I started with $\" + str(principal) + \" and now have $\" + str(result) + \". Awesome!\")"
   ]
  },
  {
   "cell_type": "markdown",
   "id": "b1d4183d",
   "metadata": {},
   "source": [
    "__<span style=\"color:blue\">File name: Introduction to Python_1.2</span>__"
   ]
  },
  {
   "cell_type": "markdown",
   "id": "31193221",
   "metadata": {},
   "source": [
    "## II. Python Lists"
   ]
  },
  {
   "cell_type": "markdown",
   "id": "886294e9",
   "metadata": {},
   "source": [
    "* __Lists are used to store multiple items in a single variable.__\n",
    "* Lists are one of 4 built-in data types in Python used to store collections of data, the other 3 are Tuple, Set, and Dictionary.\n",
    "* Python List can contain sublist.\n",
    "* List is Square brackets [  ,  ,  , ]\n",
    "* The element starts 0. \n",
    "* Index -1 means the last element in the List\n",
    "* List slicing is __Listname[start : end]__\n",
    "* For example, __Listname[3:5]__ , it will return 3th and 4th elements."
   ]
  },
  {
   "cell_type": "markdown",
   "id": "b11e3ce5",
   "metadata": {},
   "source": [
    "### 1. Lists"
   ]
  },
  {
   "cell_type": "code",
   "execution_count": 46,
   "id": "d0155bbf",
   "metadata": {},
   "outputs": [
    {
     "name": "stdout",
     "output_type": "stream",
     "text": [
      "[1, 1.5, 0.9, 8, 0.5]\n",
      "['apple', 1, 'orange', 1.5, 'persimmon', 0.9, 'watermelon', 8, 'lemon', 0.5]\n",
      "<class 'list'>\n"
     ]
    }
   ],
   "source": [
    "# Fruit_Price variables ($ price)\n",
    "apple  = 1\n",
    "orange = 1.5\n",
    "persimmon = 0.9\n",
    "watermelon = 8\n",
    "lemon = 0.5\n",
    "\n",
    "# Create list Fruit_Price\n",
    "Fruit_Price = [apple, orange, persimmon, watermelon, lemon]\n",
    "\n",
    "# Print Fruit_Price\n",
    "print(Fruit_Price)\n",
    "\n",
    "\n",
    "# Add element in the list\n",
    "Fruit_Price2 = [\"apple\", apple, \"orange\", orange, \"persimmon\", persimmon, \"watermelon\", watermelon, \"lemon\", lemon]\n",
    "print(Fruit_Price2)\n",
    "print(type(Fruit_Price2))"
   ]
  },
  {
   "cell_type": "code",
   "execution_count": 45,
   "id": "4f130cf2",
   "metadata": {},
   "outputs": [
    {
     "name": "stdout",
     "output_type": "stream",
     "text": [
      "[['apple', 1], ['orange', 1.5], ['persimmon', 0.9], ['watermelon', 8], ['lemon', 0.5]]\n",
      "<class 'list'>\n"
     ]
    }
   ],
   "source": [
    "# create list of list\n",
    "Fruit = [[\"apple\", apple],\n",
    "         [\"orange\", orange], \n",
    "         [\"persimmon\", persimmon], \n",
    "         [\"watermelon\", watermelon],\n",
    "         [\"lemon\", lemon]]\n",
    "    \n",
    "print(Fruit)    \n",
    "print(type(Fruit))    "
   ]
  },
  {
   "cell_type": "code",
   "execution_count": 47,
   "id": "80e13b75",
   "metadata": {},
   "outputs": [
    {
     "name": "stdout",
     "output_type": "stream",
     "text": [
      "[11.25, 18.0, 20.0, 10.75, 9.5]\n",
      "['hallway', 11.25, 'kitchen', 18.0, 'living room', 20.0, 'bedroom', 10.75, 'bathroom', 9.5]\n"
     ]
    }
   ],
   "source": [
    "# area variables (in square meters)\n",
    "hall = 11.25\n",
    "kit = 18.0\n",
    "liv = 20.0\n",
    "bed = 10.75x\n",
    "bath = 9.50\n",
    "\n",
    "# Create list areas\n",
    "area = [hall, kit, liv, bed, bath]\n",
    "\n",
    "# Print areas\n",
    "print(area)\n",
    "\n",
    "# Adapt list areas\n",
    "area2 = [\"hallway\", hall, \"kitchen\", kit, \"living room\", liv, \"bedroom\", bed, \"bathroom\", bath]\n",
    "\n",
    "# Print areas\n",
    "print(area2)\n",
    "\n"
   ]
  },
  {
   "cell_type": "markdown",
   "id": "55daecbe",
   "metadata": {},
   "source": [
    "### 2. List Slicing"
   ]
  },
  {
   "cell_type": "code",
   "execution_count": 48,
   "id": "4e9a1aff",
   "metadata": {},
   "outputs": [
    {
     "name": "stdout",
     "output_type": "stream",
     "text": [
      "[['hallway', 11.25], ['kitchen', 18.0], ['living room', 20.0], ['bedroom', 10.75], ['bathroom', 9.5]]\n",
      "<class 'list'>\n"
     ]
    }
   ],
   "source": [
    "# area variables (in square meters)\n",
    "hall = 11.25\n",
    "kit = 18.0\n",
    "liv = 20.0\n",
    "bed = 10.75\n",
    "bath = 9.50\n",
    "\n",
    "# house information as list of lists\n",
    "house = [[\"hallway\", hall],\n",
    "         [\"kitchen\", kit],\n",
    "         [\"living room\", liv],\n",
    "         [\"bedroom\", bed],\n",
    "         [\"bathroom\", bath]]\n",
    "\n",
    "# Print out house\n",
    "print(house)\n",
    "\n",
    "# Print out the type of house\n",
    "print(type(house))\n"
   ]
  },
  {
   "cell_type": "markdown",
   "id": "88ed7629",
   "metadata": {},
   "source": [
    "__1) Select one element in the list__"
   ]
  },
  {
   "cell_type": "markdown",
   "id": "07d69242",
   "metadata": {},
   "source": [
    "* list_order_forward = [0, 1, 2, 3, 4, 5, .....]\n",
    "* lins_order_backward = [...., -4, -3, -2, -1 ] "
   ]
  },
  {
   "cell_type": "code",
   "execution_count": 58,
   "id": "8875d63b",
   "metadata": {},
   "outputs": [
    {
     "name": "stdout",
     "output_type": "stream",
     "text": [
      "['apple', 1, 'orange', 1.5, 'persimmon', 0.9, 'watermelon', 8, 'lemon', 0.5]\n",
      "1\n",
      "An apple  is 1 dollar.\n",
      "0.5\n",
      "0.9\n",
      "9\n"
     ]
    }
   ],
   "source": [
    "# Create the Fruit_Price list\n",
    "Fruit_Price = [\"apple\", apple, \"orange\", orange, \"persimmon\", persimmon, \"watermelon\", watermelon, \"lemon\", lemon]\n",
    "\n",
    "# Prsint the Fruit_Price\n",
    "print(Fruit_Price)\n",
    "\n",
    "\n",
    "# Print out second element from Fruit_Price\n",
    "print(Fruit_Price[1])\n",
    "print(\"An\", Fruit_Price[0], \" is\", str(Fruit_Price[1]), \"dollar.\")\n",
    "\n",
    "# Print out last element from Fruit_Price\n",
    "print(Fruit_Price[-1])\n",
    "\n",
    "# Print out the price of the persimmon\n",
    "print(Fruit_Price[5])\n",
    "\n",
    "# Print sum of apple and watermelon price as apple_watermelon\n",
    "apple_watermelon = Fruit_Price[1] + Fruit_Price[-3]\n",
    "print(apple_watermelon)"
   ]
  },
  {
   "cell_type": "markdown",
   "id": "c1a559fd",
   "metadata": {},
   "source": [
    "__2) crete list slicing__"
   ]
  },
  {
   "cell_type": "markdown",
   "id": "5de2da42",
   "metadata": {},
   "source": [
    "x = [\"a\", \"b\", \"c\", \"d\"]\n",
    "\n",
    "* x[start: end] : from the start, print out \"end-start\" varlables.\n",
    "* x[ :2] : from the beginning, print out two variables. \n",
    "* x[2: ] : from the index=2 element, print out all element.\n",
    "* x[ : ] : print out all"
   ]
  },
  {
   "cell_type": "code",
   "execution_count": 89,
   "id": "f9556e2a",
   "metadata": {},
   "outputs": [],
   "source": [
    "# Create the Fruit_Price list\n",
    "Fruit_Price = [\"apple\", apple, \"orange\", orange, \"persimmon\", persimmon, \"watermelon\", watermelon, \"lemon\", lemon]"
   ]
  },
  {
   "cell_type": "code",
   "execution_count": 189,
   "id": "07b48eca",
   "metadata": {},
   "outputs": [
    {
     "data": {
      "text/plain": [
       "2"
      ]
     },
     "execution_count": 189,
     "metadata": {},
     "output_type": "execute_result"
    }
   ],
   "source": [
    "# Find index \n",
    "Fruit_Price.index(\"apple\")"
   ]
  },
  {
   "cell_type": "code",
   "execution_count": 90,
   "id": "98681176",
   "metadata": {},
   "outputs": [
    {
     "name": "stdout",
     "output_type": "stream",
     "text": [
      "['apple', 1]\n",
      "['apple', 1]\n"
     ]
    }
   ],
   "source": [
    "# Create the apple_list\n",
    "list_apple = Fruit_Price[0:2]\n",
    "print(list_apple)\n",
    "\n",
    "# Another way\n",
    "list_apple2 = Fruit_Price[:2]\n",
    "print(list_apple2)"
   ]
  },
  {
   "cell_type": "code",
   "execution_count": 91,
   "id": "5f0a8363",
   "metadata": {},
   "outputs": [
    {
     "name": "stdout",
     "output_type": "stream",
     "text": [
      "['apple', 1, 'orange', 1.5]\n"
     ]
    }
   ],
   "source": [
    "# Create list containing apple and orange\n",
    "list_apple_orange = Fruit_Price[0:4]\n",
    "print(list_apple_orange)"
   ]
  },
  {
   "cell_type": "code",
   "execution_count": 92,
   "id": "215c2231",
   "metadata": {},
   "outputs": [
    {
     "name": "stdout",
     "output_type": "stream",
     "text": [
      "['lemon', 0.5]\n",
      "['lemon', 0.5]\n"
     ]
    }
   ],
   "source": [
    "# Create list containing lemon\n",
    "list_lemon = Fruit_Price[8:]\n",
    "print(list_lemon)\n",
    "\n",
    "# Another way\n",
    "list_lemon2 = Fruit_Price[-2 :]\n",
    "print(list_lemon2)"
   ]
  },
  {
   "cell_type": "code",
   "execution_count": 93,
   "id": "29a39b16",
   "metadata": {},
   "outputs": [
    {
     "name": "stdout",
     "output_type": "stream",
     "text": [
      "['orange', 1.5, 'persimmon', 0.9]\n"
     ]
    }
   ],
   "source": [
    "# Create list containing orange and persimmon\n",
    "list_org_per = Fruit_Price[2:6]\n",
    "print(list_org_per)"
   ]
  },
  {
   "cell_type": "markdown",
   "id": "d26a2ab4",
   "metadata": {},
   "source": [
    "__3) crete list slicing2__"
   ]
  },
  {
   "cell_type": "code",
   "execution_count": 94,
   "id": "3662752c",
   "metadata": {},
   "outputs": [
    {
     "name": "stdout",
     "output_type": "stream",
     "text": [
      "g\n",
      "['g', 'h']\n"
     ]
    }
   ],
   "source": [
    "x = [[\"a\", \"b\", \"c\"], [\"d\", \"e\", \"f\"], [\"g\", \"h\", \"i\"]]\n",
    "\n",
    "print(x[2][0])\n",
    "print(x[2][:2])"
   ]
  },
  {
   "cell_type": "markdown",
   "id": "5848e8ab",
   "metadata": {},
   "source": [
    "### 3. Manipulating Lists"
   ]
  },
  {
   "cell_type": "markdown",
   "id": "0351450d",
   "metadata": {},
   "source": [
    "__1) Updating element__"
   ]
  },
  {
   "cell_type": "code",
   "execution_count": 165,
   "id": "b6f32d2e",
   "metadata": {},
   "outputs": [
    {
     "name": "stdout",
     "output_type": "stream",
     "text": [
      "['apple', 1, 'orange', 1.5, 'persimmon', 0.9, 'watermelon', 8, 'lemon', 0.5]\n"
     ]
    }
   ],
   "source": [
    "# Create the Fruit_Price list\n",
    "Fruit_Price = [\"apple\", apple, \"orange\", orange, \"persimmon\", persimmon, \"watermelon\", watermelon, \"lemon\", lemon]\n",
    "print(Fruit_Price)"
   ]
  },
  {
   "cell_type": "code",
   "execution_count": 166,
   "id": "1593557f",
   "metadata": {},
   "outputs": [
    {
     "name": "stdout",
     "output_type": "stream",
     "text": [
      "['apple', 2, 'orange', 1.5, 'persimmon', 0.9, 'watermelon', 8, 'lemon', 0.5]\n"
     ]
    }
   ],
   "source": [
    "# update the apple price as 2\n",
    "Fruit_Price[1] = 2\n",
    "print(Fruit_Price)"
   ]
  },
  {
   "cell_type": "code",
   "execution_count": 167,
   "id": "50e7fae6",
   "metadata": {},
   "outputs": [
    {
     "name": "stdout",
     "output_type": "stream",
     "text": [
      "['apple', 2, 'orange', 1.5, 'persimmon', 0.9, 'watermelon', 8, 'kiwi', 0.5]\n"
     ]
    }
   ],
   "source": [
    "# update the lemon as \"kiwi\"\n",
    "Fruit_Price[-2] = 'kiwi'\n",
    "print(Fruit_Price)"
   ]
  },
  {
   "cell_type": "code",
   "execution_count": 177,
   "id": "e05e2328",
   "metadata": {},
   "outputs": [
    {
     "name": "stdout",
     "output_type": "stream",
     "text": [
      "['apple', 2, 'orange', 1.5, 'persimmon', 0.9, 'watermelon', 8, 'kiwi', 0.5, 'pineapple', 2.3]\n"
     ]
    }
   ],
   "source": [
    "# add pineapple data to Fruit_Price, new list is Fruit_Price_new\n",
    "Fruit_Price_new = Fruit_Price + [\"pineapple\", 2.3]\n",
    "print(Fruit_Price_new)"
   ]
  },
  {
   "cell_type": "markdown",
   "id": "fce4fdb6",
   "metadata": {},
   "source": [
    "__2) Deleteing element__"
   ]
  },
  {
   "cell_type": "code",
   "execution_count": 178,
   "id": "52e7580c",
   "metadata": {
    "scrolled": true
   },
   "outputs": [
    {
     "name": "stdout",
     "output_type": "stream",
     "text": [
      "['apple', 2, 'orange', 1.5, 'persimmon', 0.9, 'watermelon', 8, 'kiwi', 0.5, 'pineapple', 2.3]\n"
     ]
    }
   ],
   "source": [
    "print(Fruit_Price_new)"
   ]
  },
  {
   "cell_type": "code",
   "execution_count": 179,
   "id": "77693c53",
   "metadata": {},
   "outputs": [
    {
     "name": "stdout",
     "output_type": "stream",
     "text": [
      "['apple', 2, 'orange', 1.5, 'persimmon', 0.9, 'watermelon', 8, 'kiwi', 0.5]\n"
     ]
    }
   ],
   "source": [
    "# delete pineapple and its price\n",
    "del(Fruit_Price_new[10: ])\n",
    "print(Fruit_Price_new)"
   ]
  },
  {
   "cell_type": "code",
   "execution_count": 180,
   "id": "0ae08210",
   "metadata": {},
   "outputs": [
    {
     "name": "stdout",
     "output_type": "stream",
     "text": [
      "['apple', 2, 'orange', 1.5, 'persimmon', 0.9, 'kiwi', 0.5]\n"
     ]
    }
   ],
   "source": [
    "# delete watermelon and its price\n",
    "del(Fruit_Price_new[6:8])\n",
    "print(Fruit_Price_new)"
   ]
  },
  {
   "cell_type": "markdown",
   "id": "6ff8579a",
   "metadata": {},
   "source": [
    "__3) Copying List__"
   ]
  },
  {
   "cell_type": "code",
   "execution_count": 181,
   "id": "9501bbf2",
   "metadata": {},
   "outputs": [
    {
     "name": "stdout",
     "output_type": "stream",
     "text": [
      "['apple', 2, 'orange', 1.5, 'persimmon', 0.9, 'kiwi', 0.5]\n",
      "<class 'list'>\n"
     ]
    }
   ],
   "source": [
    "Fruit_Price_Final = Fruit_Price_new\n",
    "\n",
    "print(Fruit_Price_Final)\n",
    "print(type(Fruit_Price_Final))\n",
    "\n",
    "# if Fruit_Price_new is not list, we can conver it to list by list(Fruit_Price_new)"
   ]
  }
 ],
 "metadata": {
  "kernelspec": {
   "display_name": "Python 3 (ipykernel)",
   "language": "python",
   "name": "python3"
  },
  "language_info": {
   "codemirror_mode": {
    "name": "ipython",
    "version": 3
   },
   "file_extension": ".py",
   "mimetype": "text/x-python",
   "name": "python",
   "nbconvert_exporter": "python",
   "pygments_lexer": "ipython3",
   "version": "3.9.12"
  }
 },
 "nbformat": 4,
 "nbformat_minor": 5
}

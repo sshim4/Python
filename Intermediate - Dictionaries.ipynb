{
 "cells": [
  {
   "cell_type": "markdown",
   "id": "1dcb4a11",
   "metadata": {},
   "source": [
    "https://docs.python.org/3/tutorial/datastructures.html#dictionaries"
   ]
  },
  {
   "cell_type": "markdown",
   "id": "c218a80d",
   "metadata": {},
   "source": [
    "**1. Dictionary**"
   ]
  },
  {
   "cell_type": "markdown",
   "id": "0efe4ce9",
   "metadata": {},
   "source": [
    "Python users can store data vaule in dictionaries using **key:value** paris. "
   ]
  },
  {
   "cell_type": "markdown",
   "id": "d9e90c14",
   "metadata": {},
   "source": [
    "**(1) Use List and its index then find a value**"
   ]
  },
  {
   "cell_type": "code",
   "execution_count": 49,
   "id": "b1d6a2eb",
   "metadata": {},
   "outputs": [
    {
     "data": {
      "text/plain": [
       "'A+'"
      ]
     },
     "execution_count": 49,
     "metadata": {},
     "output_type": "execute_result"
    }
   ],
   "source": [
    "# List\n",
    "# Define name and grade\n",
    "name = ['Jieun', 'Sona', 'Jesse', 'Mike', 'Kim'] #key\n",
    "grade = ['A', 'A+', 'B+', 'B', 'A-'] #value\n",
    "\n",
    "# Get index of 'Sona' in name\n",
    "index_sona = name.index('Sona')\n",
    "\n",
    "# Find Sona's grade in grade\n",
    "grade[index_sona]"
   ]
  },
  {
   "cell_type": "markdown",
   "id": "e8f30ffc",
   "metadata": {},
   "source": [
    "**(2) Use dictionary to find a value**"
   ]
  },
  {
   "cell_type": "code",
   "execution_count": 50,
   "id": "961182ef",
   "metadata": {
    "scrolled": true
   },
   "outputs": [
    {
     "name": "stdout",
     "output_type": "stream",
     "text": [
      "{'Jieun': 'A', 'Sona': 'A+', 'Jesse': 'B+', 'Mike': 'B', 'Kim': 'A-'}\n",
      "dict_keys(['Jieun', 'Sona', 'Jesse', 'Mike', 'Kim'])\n"
     ]
    }
   ],
   "source": [
    "#Create dictionary\n",
    "dict_grade = {'Jieun':'A', 'Sona':'A+', 'Jesse':'B+', 'Mike':'B', 'Kim':'A-'}\n",
    "\n",
    "print(dict_grade)\n",
    "print(dict_grade.keys())"
   ]
  },
  {
   "cell_type": "code",
   "execution_count": 51,
   "id": "b9414cab",
   "metadata": {},
   "outputs": [
    {
     "name": "stdout",
     "output_type": "stream",
     "text": [
      "A+\n"
     ]
    }
   ],
   "source": [
    "print(dict_grade['Sona']) # Print out value that belongs to key 'Sona'"
   ]
  },
  {
   "cell_type": "markdown",
   "id": "1a72470e",
   "metadata": {},
   "source": [
    "**(3) Add key and its value into dictionary**"
   ]
  },
  {
   "cell_type": "code",
   "execution_count": 52,
   "id": "b57b2f74",
   "metadata": {},
   "outputs": [
    {
     "name": "stdout",
     "output_type": "stream",
     "text": [
      "True\n",
      "True\n",
      "{'Jieun': 'A', 'Sona': 'A+', 'Jesse': 'B+', 'Mike': 'B', 'Kim': 'A-', 'Soom': 'A++', 'KB': 'S'}\n"
     ]
    }
   ],
   "source": [
    "# Add key and its value into dictionary\n",
    "dict_grade['Soom'] = 'A++'\n",
    "dict_grade['KB'] = 'S'\n",
    "\n",
    "\n",
    "#print the grde of Soom\n",
    "print('Soom' in dict_grade)\n",
    "print('KB' in dict_grade)\n",
    "print(dict_grade)\n"
   ]
  },
  {
   "cell_type": "markdown",
   "id": "2d1483a4",
   "metadata": {},
   "source": [
    "**(4) Delete a key and its value**"
   ]
  },
  {
   "cell_type": "code",
   "execution_count": 53,
   "id": "511762e4",
   "metadata": {},
   "outputs": [],
   "source": [
    "# delete 'Jieun' and its value in dictonary\n",
    "del(dict_grade['Jieun'])"
   ]
  },
  {
   "cell_type": "code",
   "execution_count": 54,
   "id": "3125b848",
   "metadata": {},
   "outputs": [
    {
     "name": "stdout",
     "output_type": "stream",
     "text": [
      "{'Sona': 'A+', 'Jesse': 'B+', 'Mike': 'B', 'Kim': 'A-', 'Soom': 'A++', 'KB': 'S'}\n"
     ]
    }
   ],
   "source": [
    "print(dict_grade)"
   ]
  },
  {
   "cell_type": "markdown",
   "id": "142f3014",
   "metadata": {},
   "source": [
    "**2. Dictionary of dictionaries**"
   ]
  },
  {
   "cell_type": "markdown",
   "id": "54454daf",
   "metadata": {},
   "source": [
    "**(5) Dictionary of dictionaries**"
   ]
  },
  {
   "cell_type": "code",
   "execution_count": 55,
   "id": "531ade5d",
   "metadata": {},
   "outputs": [
    {
     "name": "stdout",
     "output_type": "stream",
     "text": [
      "A-\n",
      "5\n",
      "{'grade': 'A-', 'age': 5}\n"
     ]
    }
   ],
   "source": [
    "# Dictionary of dictionaries\n",
    "school = { 'Jieun': {'grade':'A', 'age': 18}, \n",
    "           'Sona' : {'grade':'A+', 'age': 17}, \n",
    "           'Jesse': {'grade':'B+', 'age': 21}, \n",
    "           'Mike' : {'grade':'B', 'age': 20}, \n",
    "           'Kim'  : {'grade':'A-', 'age': 5}} \n",
    "\n",
    "\n",
    "#print out the grade of Kim\n",
    "print(school['Kim']['grade'])\n",
    "\n",
    "#print out the age of Kim\n",
    "print(school['Kim']['age'])\n",
    "\n",
    "#print out information of Kim\n",
    "print(school['Kim'])"
   ]
  },
  {
   "cell_type": "markdown",
   "id": "ca2bfa03",
   "metadata": {},
   "source": [
    "**(6) Add sub-dictionary data**"
   ]
  },
  {
   "cell_type": "code",
   "execution_count": 56,
   "id": "4d3abedd",
   "metadata": {},
   "outputs": [
    {
     "name": "stdout",
     "output_type": "stream",
     "text": [
      "{'Jieun': {'grade': 'A', 'age': 18}, 'Sona': {'grade': 'A+', 'age': 17}, 'Jesse': {'grade': 'B+', 'age': 21}, 'Mike': {'grade': 'B', 'age': 20}, 'Kim': {'grade': 'A-', 'age': 5}, 'KB': {'grade': 'C', 'age': 11}}\n"
     ]
    }
   ],
   "source": [
    "# Create sub-dictionary data\n",
    "add = {'grade':'C', 'age':11}\n",
    "\n",
    "# Add data to school under key 'KB'\n",
    "school['KB'] = add\n",
    "print(school)"
   ]
  },
  {
   "cell_type": "code",
   "execution_count": 57,
   "id": "d83b11d4",
   "metadata": {
    "scrolled": true
   },
   "outputs": [
    {
     "name": "stdout",
     "output_type": "stream",
     "text": [
      "{'Jieun': {'grade': 'A', 'age': 18}, 'Sona': {'grade': 'A+', 'age': 17}, 'Jesse': {'grade': 'B+', 'age': 21}, 'Mike': {'grade': 'B', 'age': 20}, 'Kim': {'grade': 'A-', 'age': 5}, 'KB': {'grade': 'C', 'age': 11}, 'Soom': {'grade': 'C', 'age': 25}}\n"
     ]
    }
   ],
   "source": [
    "# or\n",
    "school['Soom'] =  {'grade':'C', 'age':25}\n",
    "print(school)"
   ]
  },
  {
   "cell_type": "code",
   "execution_count": 58,
   "id": "0405047a",
   "metadata": {},
   "outputs": [
    {
     "name": "stdout",
     "output_type": "stream",
     "text": [
      "C\n"
     ]
    }
   ],
   "source": [
    "#print out the grade of Soom\n",
    "print(school['Soom']['grade'])"
   ]
  }
 ],
 "metadata": {
  "kernelspec": {
   "display_name": "Python 3 (ipykernel)",
   "language": "python",
   "name": "python3"
  },
  "language_info": {
   "codemirror_mode": {
    "name": "ipython",
    "version": 3
   },
   "file_extension": ".py",
   "mimetype": "text/x-python",
   "name": "python",
   "nbconvert_exporter": "python",
   "pygments_lexer": "ipython3",
   "version": "3.9.15"
  }
 },
 "nbformat": 4,
 "nbformat_minor": 5
}

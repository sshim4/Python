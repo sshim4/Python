{
 "cells": [
  {
   "cell_type": "markdown",
   "id": "dce78ad9",
   "metadata": {},
   "source": [
    "__<span style=\"color:blue\">File name: Introduction to Python_1.1</span>__"
   ]
  },
  {
   "cell_type": "markdown",
   "id": "d0eba828",
   "metadata": {},
   "source": [
    "### I. The Python Basics"
   ]
  },
  {
   "cell_type": "markdown",
   "id": "deae60a3",
   "metadata": {},
   "source": [
    "### 1. Simple Calculation"
   ]
  },
  {
   "cell_type": "code",
   "execution_count": 1,
   "id": "5522be9f",
   "metadata": {},
   "outputs": [
    {
     "name": "stdout",
     "output_type": "stream",
     "text": [
      "3\n",
      "4\n",
      "12\n",
      "25\n",
      "5.0\n",
      "0\n",
      "1\n"
     ]
    }
   ],
   "source": [
    "print(1 + 2) # Addition\n",
    "print(5 - 1) # subtraction\n",
    "print(4 * 3) # multiplication\n",
    "print(5**2) # exponentiaion\n",
    "print(10/2) # Division\n",
    "print(14 % 7) # modulo: returs the remainder of the division of the number to the left by the number on its right.\n",
    "print(15 % 7)"
   ]
  },
  {
   "cell_type": "code",
   "execution_count": 2,
   "id": "a65fbb30",
   "metadata": {},
   "outputs": [
    {
     "data": {
      "text/plain": [
       "12"
      ]
     },
     "execution_count": 2,
     "metadata": {},
     "output_type": "execute_result"
    }
   ],
   "source": [
    "(1 + 2)\n",
    "(5 - 1)\n",
    "(4 * 3)"
   ]
  },
  {
   "cell_type": "markdown",
   "id": "bfbdb271",
   "metadata": {},
   "source": [
    "__Exercise__: Calculate $ 1 + 3 \\times 5 - 10 $ "
   ]
  },
  {
   "cell_type": "code",
   "execution_count": 3,
   "id": "d9270197",
   "metadata": {},
   "outputs": [
    {
     "data": {
      "text/plain": [
       "6"
      ]
     },
     "execution_count": 3,
     "metadata": {},
     "output_type": "execute_result"
    }
   ],
   "source": [
    "1+(3*5)-10"
   ]
  },
  {
   "cell_type": "code",
   "execution_count": 4,
   "id": "9b22e24e",
   "metadata": {},
   "outputs": [
    {
     "data": {
      "text/plain": [
       "6"
      ]
     },
     "execution_count": 4,
     "metadata": {},
     "output_type": "execute_result"
    }
   ],
   "source": [
    "1+3*5-10"
   ]
  },
  {
   "cell_type": "markdown",
   "id": "feb9f15f",
   "metadata": {},
   "source": [
    "### 2. Variables and Types"
   ]
  },
  {
   "cell_type": "markdown",
   "id": "7eb17b8e",
   "metadata": {},
   "source": [
    "* Python has 4 types of variables. Text(String), Ingeter, Real Number(float), Boolean(true 1,false 0)\n",
    "* We can check variable type using type(variable name)"
   ]
  },
  {
   "cell_type": "code",
   "execution_count": 40,
   "id": "a1c1bf59",
   "metadata": {},
   "outputs": [
    {
     "name": "stdout",
     "output_type": "stream",
     "text": [
      "<class 'int'>\n",
      "<class 'str'>\n",
      "<class 'bool'>\n",
      "<class 'float'>\n",
      "<class 'int'>\n"
     ]
    }
   ],
   "source": [
    "# Create variables\n",
    "a = 100\n",
    "b = 'Hello'\n",
    "c = True\n",
    "d = 100.11\n",
    "e = 0\n",
    "\n",
    "# Check type of variables\n",
    "print(type(a))\n",
    "print(type(b))\n",
    "print(type(c))\n",
    "print(type(d))\n",
    "print(type(e))"
   ]
  },
  {
   "cell_type": "markdown",
   "id": "aa7d17e1",
   "metadata": {},
   "source": [
    "__Example__: Create a variable desc"
   ]
  },
  {
   "cell_type": "code",
   "execution_count": 41,
   "id": "4203dcee",
   "metadata": {},
   "outputs": [
    {
     "name": "stdout",
     "output_type": "stream",
     "text": [
      "HelloHello\n"
     ]
    }
   ],
   "source": [
    "desc = 'Hello'\n",
    "double_desc= desc + desc\n",
    "print(double_desc)"
   ]
  },
  {
   "cell_type": "markdown",
   "id": "2459869c",
   "metadata": {},
   "source": [
    "__Convert Python values :__\n",
    "* str() : string, text\n",
    "* int() : integer numbers\n",
    "* float() : real numbers\n",
    "* bool() : True, False"
   ]
  },
  {
   "cell_type": "code",
   "execution_count": 42,
   "id": "27422818",
   "metadata": {},
   "outputs": [
    {
     "name": "stdout",
     "output_type": "stream",
     "text": [
      "100\n",
      "100.0\n",
      "100\n",
      "False\n"
     ]
    }
   ],
   "source": [
    "# Convert a variabale type\n",
    "str_a   = str(a)\n",
    "float_a = float(a)\n",
    "int_d   = int(d)\n",
    "bool_e  = bool(e)\n",
    "\n",
    "# Check values of variables\n",
    "print(str_a)\n",
    "print(float_a)\n",
    "print(int_d)\n",
    "print(bool_e)"
   ]
  },
  {
   "cell_type": "markdown",
   "id": "52e5ef19",
   "metadata": {},
   "source": [
    "__Example__: Suppose we invest fixed deposit $ 100 with annual component interest 10\\% and maturity 10years.\n",
    "\n",
    "$$ Principle ( 1 + annual \\, interest \\, rate) ^ {n \\, years} $$"
   ]
  },
  {
   "cell_type": "code",
   "execution_count": 35,
   "id": "00f31180",
   "metadata": {},
   "outputs": [
    {
     "name": "stdout",
     "output_type": "stream",
     "text": [
      "259.3742460100002\n",
      "I started with $100 and now have $259.3742460100002. Awesome!\n"
     ]
    }
   ],
   "source": [
    "# Create a variable principle\n",
    "principal = 100\n",
    "\n",
    "# Create a variable growth_multiplier (annumal compount interest is 10%)\n",
    "growth_multiplier = 1.1\n",
    "\n",
    "# Calculate result \n",
    "result = principal * (1.1 ** 10) \n",
    "\n",
    "# Print out result\n",
    "print(result)\n",
    "\n",
    "# Print out a sentence\n",
    "print(\"I started with $\" + str(principal) + \" and now have $\" + str(result) + \". Awesome!\")"
   ]
  }
 ],
 "metadata": {
  "kernelspec": {
   "display_name": "Python 3 (ipykernel)",
   "language": "python",
   "name": "python3"
  },
  "language_info": {
   "codemirror_mode": {
    "name": "ipython",
    "version": 3
   },
   "file_extension": ".py",
   "mimetype": "text/x-python",
   "name": "python",
   "nbconvert_exporter": "python",
   "pygments_lexer": "ipython3",
   "version": "3.9.12"
  }
 },
 "nbformat": 4,
 "nbformat_minor": 5
}

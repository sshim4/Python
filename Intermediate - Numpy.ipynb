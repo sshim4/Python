{
 "cells": [
  {
   "cell_type": "markdown",
   "id": "ccd2023f",
   "metadata": {},
   "source": [
    "https://numpy.org/doc/stable/index.html"
   ]
  },
  {
   "cell_type": "markdown",
   "id": "0fc04fbb",
   "metadata": {},
   "source": [
    "**NumPy** offers comprehensive mathematical functions, random number generators, linear algebra routines, Fourier transforms, and more. "
   ]
  },
  {
   "cell_type": "markdown",
   "id": "72477e6c",
   "metadata": {},
   "source": [
    "**1. Install Numpy package**"
   ]
  },
  {
   "cell_type": "code",
   "execution_count": null,
   "id": "b093fc00",
   "metadata": {
    "scrolled": true
   },
   "outputs": [],
   "source": [
    "pip install numpy"
   ]
  },
  {
   "cell_type": "markdown",
   "id": "7611f91c",
   "metadata": {},
   "source": [
    "**2. Import Numpy as np**"
   ]
  },
  {
   "cell_type": "code",
   "execution_count": 1,
   "id": "85ec96b1",
   "metadata": {},
   "outputs": [],
   "source": [
    "import numpy as np"
   ]
  },
  {
   "cell_type": "markdown",
   "id": "a674485b",
   "metadata": {},
   "source": [
    "**3. NumPy Array**"
   ]
  },
  {
   "cell_type": "code",
   "execution_count": 38,
   "id": "56fee13e",
   "metadata": {},
   "outputs": [],
   "source": [
    "# create a list , height.\n",
    "aa = [1, 4, 9, 16, 30, 36]"
   ]
  },
  {
   "cell_type": "code",
   "execution_count": 39,
   "id": "04575d77",
   "metadata": {},
   "outputs": [],
   "source": [
    "# create a numpy array from height: np_height\n",
    "np_aa = np.array(aa)"
   ]
  },
  {
   "cell_type": "code",
   "execution_count": 40,
   "id": "d365a4cc",
   "metadata": {},
   "outputs": [
    {
     "name": "stdout",
     "output_type": "stream",
     "text": [
      "<class 'numpy.ndarray'>\n"
     ]
    }
   ],
   "source": [
    "# Print out type of np_height\n",
    "print(type(np_aa))"
   ]
  },
  {
   "cell_type": "markdown",
   "id": "a5549b6f",
   "metadata": {},
   "source": [
    "**4.Calculation**"
   ]
  },
  {
   "cell_type": "markdown",
   "id": "ea9220cf",
   "metadata": {},
   "source": [
    "* NumPy is great for vector arithmetic such as $+$, $-$ , $*$ , $/$ "
   ]
  },
  {
   "cell_type": "code",
   "execution_count": 45,
   "id": "65205980",
   "metadata": {},
   "outputs": [
    {
     "data": {
      "text/plain": [
       "array([  3,  12,  27,  48,  90, 108])"
      ]
     },
     "execution_count": 45,
     "metadata": {},
     "output_type": "execute_result"
    }
   ],
   "source": [
    "np_aa * 3"
   ]
  },
  {
   "cell_type": "code",
   "execution_count": 46,
   "id": "699d9819",
   "metadata": {},
   "outputs": [],
   "source": [
    "np_bb = np.array([1,2,3,4,5, 6])"
   ]
  },
  {
   "cell_type": "code",
   "execution_count": 47,
   "id": "69dbbf57",
   "metadata": {},
   "outputs": [],
   "source": [
    "np_cc = np_aa + np_bb"
   ]
  },
  {
   "cell_type": "code",
   "execution_count": 48,
   "id": "aca97ad6",
   "metadata": {},
   "outputs": [
    {
     "name": "stdout",
     "output_type": "stream",
     "text": [
      "<class 'numpy.ndarray'>\n",
      "[ 2  6 12 20 35 42]\n"
     ]
    }
   ],
   "source": [
    "print(type(np_cc))\n",
    "print(np_cc)"
   ]
  },
  {
   "cell_type": "code",
   "execution_count": 49,
   "id": "9c626fb3",
   "metadata": {
    "scrolled": true
   },
   "outputs": [
    {
     "name": "stdout",
     "output_type": "stream",
     "text": [
      "<class 'numpy.ndarray'>\n",
      "[1. 2. 3. 4. 6. 6.]\n"
     ]
    }
   ],
   "source": [
    "np_dd = np_aa / np_bb\n",
    "print(type(np_dd))\n",
    "print(np_dd)"
   ]
  },
  {
   "cell_type": "markdown",
   "id": "ce42af4d",
   "metadata": {},
   "source": [
    "**5. NumPy features**"
   ]
  },
  {
   "cell_type": "markdown",
   "id": "ad72a975",
   "metadata": {},
   "source": [
    "* Numpy arrays cannot contain elements with different types. "
   ]
  },
  {
   "cell_type": "code",
   "execution_count": 56,
   "id": "22ed401a",
   "metadata": {},
   "outputs": [
    {
     "name": "stdout",
     "output_type": "stream",
     "text": [
      "<class 'bool'>\n",
      "<class 'str'>\n",
      "<class 'float'>\n",
      "<class 'int'>\n"
     ]
    }
   ],
   "source": [
    "# create a list , example.\n",
    "example = [True, 'Hello', 10.11, 100]\n",
    "\n",
    "print(type(example[0]))\n",
    "print(type(example[1]))\n",
    "print(type(example[2]))\n",
    "print(type(example[3]))"
   ]
  },
  {
   "cell_type": "code",
   "execution_count": 51,
   "id": "6842e6f2",
   "metadata": {},
   "outputs": [
    {
     "name": "stdout",
     "output_type": "stream",
     "text": [
      "<class 'numpy.ndarray'>\n",
      "['True' 'Hello' '10.11' '100']\n"
     ]
    }
   ],
   "source": [
    "np_example = np.array(example)\n",
    "print(type(np_example))\n",
    "print(np_example)"
   ]
  },
  {
   "cell_type": "code",
   "execution_count": 57,
   "id": "0af90e1c",
   "metadata": {},
   "outputs": [
    {
     "name": "stdout",
     "output_type": "stream",
     "text": [
      "10.11\n",
      "<class 'numpy.str_'>\n"
     ]
    }
   ],
   "source": [
    "print(np_example[2])\n",
    "print(type(np_example[2]))"
   ]
  },
  {
   "cell_type": "code",
   "execution_count": 54,
   "id": "87d48115",
   "metadata": {},
   "outputs": [
    {
     "data": {
      "text/plain": [
       "array([1, 1, 2])"
      ]
     },
     "execution_count": 54,
     "metadata": {},
     "output_type": "execute_result"
    }
   ],
   "source": [
    "np.array([True, 1, 2]) + np.array([0, 0, False])"
   ]
  },
  {
   "cell_type": "code",
   "execution_count": 59,
   "id": "ee263c0b",
   "metadata": {
    "scrolled": true
   },
   "outputs": [
    {
     "data": {
      "text/plain": [
       "numpy.int32"
      ]
     },
     "execution_count": 59,
     "metadata": {},
     "output_type": "execute_result"
    }
   ],
   "source": [
    "type(np.array([0, 0, False])[2])"
   ]
  },
  {
   "cell_type": "markdown",
   "id": "510b0dbc",
   "metadata": {},
   "source": [
    "**6.Two dimensions NumPy Array**"
   ]
  },
  {
   "cell_type": "code",
   "execution_count": 66,
   "id": "9ce810b4",
   "metadata": {},
   "outputs": [],
   "source": [
    "# Create 2D NumPy Array\n",
    "D2 = [[1, 100], [2, 200], [3, 300], [4, 400], [5, 500]]"
   ]
  },
  {
   "cell_type": "code",
   "execution_count": 67,
   "id": "be812399",
   "metadata": {},
   "outputs": [],
   "source": [
    "np_D2 = np.array(D2)"
   ]
  },
  {
   "cell_type": "code",
   "execution_count": 68,
   "id": "5c8c5b9b",
   "metadata": {},
   "outputs": [
    {
     "name": "stdout",
     "output_type": "stream",
     "text": [
      "<class 'numpy.ndarray'>\n"
     ]
    }
   ],
   "source": [
    "print(type(np_D2))"
   ]
  },
  {
   "cell_type": "code",
   "execution_count": 69,
   "id": "3e332697",
   "metadata": {},
   "outputs": [
    {
     "name": "stdout",
     "output_type": "stream",
     "text": [
      "(5, 2)\n"
     ]
    }
   ],
   "source": [
    "print(np_D2.shape)"
   ]
  },
  {
   "cell_type": "code",
   "execution_count": 70,
   "id": "833ed9d6",
   "metadata": {},
   "outputs": [
    {
     "name": "stdout",
     "output_type": "stream",
     "text": [
      "[  1 100]\n"
     ]
    }
   ],
   "source": [
    "print(np_D2[0, :])"
   ]
  },
  {
   "cell_type": "code",
   "execution_count": 75,
   "id": "73978e16",
   "metadata": {
    "scrolled": true
   },
   "outputs": [
    {
     "name": "stdout",
     "output_type": "stream",
     "text": [
      "[1 2 3 4 5]\n"
     ]
    }
   ],
   "source": [
    "print(np_D2[: , 0])"
   ]
  },
  {
   "cell_type": "code",
   "execution_count": 80,
   "id": "ea66bcac",
   "metadata": {},
   "outputs": [
    {
     "name": "stdout",
     "output_type": "stream",
     "text": [
      "[100 200]\n"
     ]
    }
   ],
   "source": [
    "print(np_D2[0:2, 1])"
   ]
  },
  {
   "cell_type": "markdown",
   "id": "0b183358",
   "metadata": {},
   "source": [
    "**7.NumPy Statistics**"
   ]
  },
  {
   "cell_type": "markdown",
   "id": "a18fca31",
   "metadata": {},
   "source": [
    "Practice mean, median, average, correlation"
   ]
  },
  {
   "cell_type": "code",
   "execution_count": 81,
   "id": "5c579499",
   "metadata": {},
   "outputs": [
    {
     "name": "stdout",
     "output_type": "stream",
     "text": [
      "3.0\n"
     ]
    }
   ],
   "source": [
    "print(np.mean(np_D2[:, 0]))"
   ]
  },
  {
   "cell_type": "code",
   "execution_count": 82,
   "id": "6563951d",
   "metadata": {
    "scrolled": true
   },
   "outputs": [
    {
     "name": "stdout",
     "output_type": "stream",
     "text": [
      "3.0\n"
     ]
    }
   ],
   "source": [
    "print(np.median(np_D2[:,0]))"
   ]
  },
  {
   "cell_type": "code",
   "execution_count": 83,
   "id": "edca1c82",
   "metadata": {
    "scrolled": false
   },
   "outputs": [
    {
     "name": "stdout",
     "output_type": "stream",
     "text": [
      "1.4142135623730951\n"
     ]
    }
   ],
   "source": [
    "# population s.d\n",
    "print(np.std(np_D2[:,0]))"
   ]
  },
  {
   "cell_type": "code",
   "execution_count": 88,
   "id": "335587c4",
   "metadata": {},
   "outputs": [
    {
     "name": "stdout",
     "output_type": "stream",
     "text": [
      "1.5811388300841898\n"
     ]
    }
   ],
   "source": [
    "# sample s.d\n",
    "print(np.std(np_D2[:,0], ddof=1))"
   ]
  },
  {
   "cell_type": "code",
   "execution_count": 87,
   "id": "a4e89d10",
   "metadata": {},
   "outputs": [
    {
     "name": "stdout",
     "output_type": "stream",
     "text": [
      "[[1. 1.]\n",
      " [1. 1.]]\n"
     ]
    }
   ],
   "source": [
    "print(np.corrcoef(np_D2[:,0], np_D2[:,1]))"
   ]
  },
  {
   "cell_type": "markdown",
   "id": "14f1bdb9",
   "metadata": {},
   "source": [
    "**4. Create a Numpy by condition**"
   ]
  },
  {
   "cell_type": "code",
   "execution_count": 114,
   "id": "5fb22120",
   "metadata": {},
   "outputs": [],
   "source": [
    "np_condition = np.array([1,2,3,4,5,6,7,8,9,10])"
   ]
  },
  {
   "cell_type": "code",
   "execution_count": 115,
   "id": "e40ee298",
   "metadata": {},
   "outputs": [],
   "source": [
    "under_5 = np_condition < 5"
   ]
  },
  {
   "cell_type": "code",
   "execution_count": 116,
   "id": "af85fb99",
   "metadata": {},
   "outputs": [
    {
     "name": "stdout",
     "output_type": "stream",
     "text": [
      "[ True  True  True  True False False False False False False]\n"
     ]
    }
   ],
   "source": [
    "print(under_5)"
   ]
  },
  {
   "cell_type": "code",
   "execution_count": 117,
   "id": "8bbda14a",
   "metadata": {},
   "outputs": [
    {
     "data": {
      "text/plain": [
       "array([ True,  True,  True,  True, False, False, False, False, False,\n",
       "       False])"
      ]
     },
     "execution_count": 117,
     "metadata": {},
     "output_type": "execute_result"
    }
   ],
   "source": [
    "under_5"
   ]
  },
  {
   "cell_type": "code",
   "execution_count": 118,
   "id": "d8e5ab86",
   "metadata": {},
   "outputs": [
    {
     "name": "stdout",
     "output_type": "stream",
     "text": [
      "[ True  True  True  True False False False False False False]\n"
     ]
    }
   ],
   "source": [
    "#or\n",
    "\n",
    "print(np_condition < 5)"
   ]
  }
 ],
 "metadata": {
  "kernelspec": {
   "display_name": "Python 3 (ipykernel)",
   "language": "python",
   "name": "python3"
  },
  "language_info": {
   "codemirror_mode": {
    "name": "ipython",
    "version": 3
   },
   "file_extension": ".py",
   "mimetype": "text/x-python",
   "name": "python",
   "nbconvert_exporter": "python",
   "pygments_lexer": "ipython3",
   "version": "3.9.15"
  }
 },
 "nbformat": 4,
 "nbformat_minor": 5
}

{
 "cells": [
  {
   "cell_type": "markdown",
   "id": "4f16193f",
   "metadata": {},
   "source": [
    "## 1. NumPy"
   ]
  },
  {
   "cell_type": "markdown",
   "id": "1416c9aa",
   "metadata": {},
   "source": [
    "1. Numpy stands for \"Numerical Python\"\n",
    "2. NumPy is a Python library used for working with arrays, linear algebra, fourier transform, and matrices.\n",
    "3. A numpy array is similar to a list.\n",
    "    * The array object in NumPy is called **ndarray**\n",
    "    \n",
    "4. https://numpy.org/"
   ]
  },
  {
   "cell_type": "markdown",
   "id": "38298beb",
   "metadata": {},
   "source": [
    "## 2. Pandas"
   ]
  },
  {
   "cell_type": "markdown",
   "id": "d6e52b7b",
   "metadata": {},
   "source": [
    "1. Panda is a python package for the Python programming language for data manipulation and analysis.\n",
    "2. It offers data structures and operations for manipulating numerical tables and time series.\n",
    "3. https://pandas.pydata.org/"
   ]
  },
  {
   "cell_type": "markdown",
   "id": "a45f51eb",
   "metadata": {},
   "source": [
    "## 3. Matplotlib\n",
    "1. Matplotlib is a comprehensive library for creating static, animated, and interactive visualizations in Python. \n",
    "2. https://matplotlib.org/"
   ]
  },
  {
   "cell_type": "markdown",
   "id": "7c722460",
   "metadata": {},
   "source": [
    "## 4. Seaborn \n",
    "\n",
    "1) Seaborn is a Python data visualization library based on matplotlib.\n",
    "2) It provides a high-level interface for drawing attractive and informative statistical graphics.\n",
    "3) https://seaborn.pydata.org/"
   ]
  },
  {
   "cell_type": "markdown",
   "id": "b3f297c5",
   "metadata": {},
   "source": [
    "## 5. Scikit-learn\n",
    "1. Simple and efficient tools for predictive data analysis\n",
    "2. https://scikit-learn.org/stable/"
   ]
  },
  {
   "cell_type": "markdown",
   "id": "96a9d148",
   "metadata": {},
   "source": [
    "## 6 Pickle \n",
    "1. The pickle module implements binary protocols for serializing and de-serializing a Python object structure. \n",
    "2. https://docs.python.org/3/library/pickle.html"
   ]
  },
  {
   "cell_type": "markdown",
   "id": "95e33974",
   "metadata": {},
   "source": [
    "## 7. Install python packages"
   ]
  },
  {
   "cell_type": "code",
   "execution_count": 21,
   "id": "f3083c1f",
   "metadata": {},
   "outputs": [],
   "source": [
    "# install a package"
   ]
  },
  {
   "cell_type": "code",
   "execution_count": null,
   "id": "6be9b6ca",
   "metadata": {
    "scrolled": true
   },
   "outputs": [],
   "source": [
    "pip install numpy"
   ]
  },
  {
   "cell_type": "code",
   "execution_count": 23,
   "id": "bab06215",
   "metadata": {},
   "outputs": [],
   "source": [
    "# install multiple packages"
   ]
  },
  {
   "cell_type": "code",
   "execution_count": null,
   "id": "55b6aa29",
   "metadata": {},
   "outputs": [],
   "source": [
    "pip install numpy pandas matplotlib seaborn scikit-learn"
   ]
  }
 ],
 "metadata": {
  "kernelspec": {
   "display_name": "Python 3 (ipykernel)",
   "language": "python",
   "name": "python3"
  },
  "language_info": {
   "codemirror_mode": {
    "name": "ipython",
    "version": 3
   },
   "file_extension": ".py",
   "mimetype": "text/x-python",
   "name": "python",
   "nbconvert_exporter": "python",
   "pygments_lexer": "ipython3",
   "version": "3.9.15"
  }
 },
 "nbformat": 4,
 "nbformat_minor": 5
}

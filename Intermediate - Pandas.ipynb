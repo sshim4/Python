{
 "cells": [
  {
   "cell_type": "markdown",
   "id": "91965fb7",
   "metadata": {},
   "source": [
    "https://pandas.pydata.org/docs/getting_started/index.html#getting-started"
   ]
  },
  {
   "cell_type": "markdown",
   "id": "67c3ec8d",
   "metadata": {},
   "source": [
    "**pandas** is a Python package for data anlysis and manipulation tool. Pandas offer a dataframe which is the tabular data form. "
   ]
  },
  {
   "cell_type": "markdown",
   "id": "b363a18a",
   "metadata": {},
   "source": [
    "<img src=\"https://pandas.pydata.org/docs/_images/01_table_dataframe.svg\" width=\"400\"/>\n",
    "\n",
    "\n",
    "\n",
    "<p style=\"text-align: center;\"> Fig. Dataframe from Pandas </p>"
   ]
  },
  {
   "cell_type": "markdown",
   "id": "4235a6e3",
   "metadata": {},
   "source": [
    "**1. Install pandas**"
   ]
  },
  {
   "cell_type": "code",
   "execution_count": null,
   "id": "b7b030bb",
   "metadata": {},
   "outputs": [],
   "source": [
    "pip install pandas"
   ]
  },
  {
   "cell_type": "markdown",
   "id": "9d68337f",
   "metadata": {},
   "source": [
    "**2. Import pandas as pd**"
   ]
  },
  {
   "cell_type": "code",
   "execution_count": 116,
   "id": "cd3b71a3",
   "metadata": {},
   "outputs": [],
   "source": [
    "import pandas as pd"
   ]
  },
  {
   "cell_type": "markdown",
   "id": "7fe6f123",
   "metadata": {},
   "source": [
    "**3. Create a dataframe using a dictionary**"
   ]
  },
  {
   "cell_type": "code",
   "execution_count": 117,
   "id": "5a6879fb",
   "metadata": {},
   "outputs": [],
   "source": [
    "name = ['Jieun', 'Sara', 'Jesse', 'Mike', 'Kim', 'Soom', 'KB']\n",
    "grade = ['A', 'A+', 'B+', 'B', 'A-', 'S', 'A++']\n",
    "dict_grade = {'name':name, 'grade':grade}\n"
   ]
  },
  {
   "cell_type": "code",
   "execution_count": 118,
   "id": "ac057420",
   "metadata": {},
   "outputs": [
    {
     "data": {
      "text/plain": [
       "dict"
      ]
     },
     "execution_count": 118,
     "metadata": {},
     "output_type": "execute_result"
    }
   ],
   "source": [
    "type(dict_grade)"
   ]
  },
  {
   "cell_type": "code",
   "execution_count": 119,
   "id": "e9e84779",
   "metadata": {},
   "outputs": [],
   "source": [
    "pd_grade = pd.DataFrame(dict_grade)"
   ]
  },
  {
   "cell_type": "code",
   "execution_count": 120,
   "id": "286f5b13",
   "metadata": {
    "scrolled": false
   },
   "outputs": [
    {
     "name": "stdout",
     "output_type": "stream",
     "text": [
      "    name grade\n",
      "0  Jieun     A\n",
      "1   Sara    A+\n",
      "2  Jesse    B+\n",
      "3   Mike     B\n",
      "4    Kim    A-\n",
      "5   Soom     S\n",
      "6     KB   A++\n"
     ]
    },
    {
     "data": {
      "text/plain": [
       "pandas.core.frame.DataFrame"
      ]
     },
     "execution_count": 120,
     "metadata": {},
     "output_type": "execute_result"
    }
   ],
   "source": [
    "print(pd_grade)\n",
    "type(pd_grade)"
   ]
  },
  {
   "cell_type": "markdown",
   "id": "938a325a",
   "metadata": {},
   "source": [
    "**definition of row labels**"
   ]
  },
  {
   "cell_type": "code",
   "execution_count": 121,
   "id": "317728b3",
   "metadata": {
    "scrolled": false
   },
   "outputs": [
    {
     "name": "stdout",
     "output_type": "stream",
     "text": [
      "     name grade\n",
      "JI  Jieun     A\n",
      "SA   Sara    A+\n",
      "JE  Jesse    B+\n",
      "MI   Mike     B\n",
      "KI    Kim    A-\n",
      "SO   Soom     S\n",
      "KB     KB   A++\n"
     ]
    }
   ],
   "source": [
    "row_labels = ['JI', 'SA', 'JE', 'MI', 'KI', 'SO', 'KB']\n",
    "\n",
    "#change row labels of pd_grade\n",
    "pd_grade.index = row_labels\n",
    "\n",
    "print(pd_grade)"
   ]
  },
  {
   "cell_type": "markdown",
   "id": "b2bad932",
   "metadata": {},
   "source": [
    "**4. CSV to DataFrame**"
   ]
  },
  {
   "cell_type": "code",
   "execution_count": 122,
   "id": "8a14eaeb",
   "metadata": {},
   "outputs": [],
   "source": [
    "pd_grade1 = pd.read_csv('grade.csv')"
   ]
  },
  {
   "cell_type": "code",
   "execution_count": 123,
   "id": "79bee5c8",
   "metadata": {
    "scrolled": false
   },
   "outputs": [
    {
     "name": "stdout",
     "output_type": "stream",
     "text": [
      "    name grade country\n",
      "0  Jieun     A   Korea\n",
      "1   Sona    A+  Russia\n",
      "2  Jesse    B+     USA\n",
      "3   Mike     B  France\n",
      "4    Kim    A-     USA\n",
      "5   Soom     S  Brazil\n",
      "6     KB   A++  Canada\n"
     ]
    }
   ],
   "source": [
    "print(pd_grade1)"
   ]
  },
  {
   "cell_type": "code",
   "execution_count": 124,
   "id": "96694b50",
   "metadata": {},
   "outputs": [],
   "source": [
    "pd_grade2 = pd.read_csv('grade with row_label.csv')"
   ]
  },
  {
   "cell_type": "code",
   "execution_count": 125,
   "id": "a798e4be",
   "metadata": {
    "scrolled": true
   },
   "outputs": [
    {
     "name": "stdout",
     "output_type": "stream",
     "text": [
      "  Unnamed: 0   name grade country\n",
      "0         JI  Jieun     A   Korea\n",
      "1         SO   Sona    A+  Russia\n",
      "2         SE  Jesse    B+     USA\n",
      "3         MI   Mike     B  France\n",
      "4         KI    Kim    A-     USA\n",
      "5         SO   Soom     S  Brazil\n",
      "6         KB     KB   A++  Canada\n"
     ]
    }
   ],
   "source": [
    "print(pd_grade2)"
   ]
  },
  {
   "cell_type": "code",
   "execution_count": 126,
   "id": "e0eecf5b",
   "metadata": {},
   "outputs": [],
   "source": [
    "pd_grade3 = pd.read_csv('grade with row_label.csv',index_col = 0)"
   ]
  },
  {
   "cell_type": "code",
   "execution_count": 127,
   "id": "533b2b94",
   "metadata": {},
   "outputs": [
    {
     "name": "stdout",
     "output_type": "stream",
     "text": [
      "     name grade country\n",
      "JI  Jieun     A   Korea\n",
      "SO   Sona    A+  Russia\n",
      "SE  Jesse    B+     USA\n",
      "MI   Mike     B  France\n",
      "KI    Kim    A-     USA\n",
      "SO   Soom     S  Brazil\n",
      "KB     KB   A++  Canada\n"
     ]
    }
   ],
   "source": [
    "print(pd_grade3)"
   ]
  },
  {
   "cell_type": "markdown",
   "id": "e62b86e1",
   "metadata": {},
   "source": [
    "**5. Extract data from a data frame**"
   ]
  },
  {
   "cell_type": "code",
   "execution_count": 128,
   "id": "484bf9a7",
   "metadata": {},
   "outputs": [
    {
     "name": "stdout",
     "output_type": "stream",
     "text": [
      "     name grade country\n",
      "JI  Jieun     A   Korea\n",
      "SO   Sona    A+  Russia\n",
      "SE  Jesse    B+     USA\n",
      "MI   Mike     B  France\n",
      "KI    Kim    A-     USA\n",
      "SO   Soom     S  Brazil\n",
      "KB     KB   A++  Canada\n"
     ]
    }
   ],
   "source": [
    "print(pd_grade3)"
   ]
  },
  {
   "cell_type": "markdown",
   "id": "e829899b",
   "metadata": {},
   "source": [
    "**Column Access:**"
   ]
  },
  {
   "cell_type": "code",
   "execution_count": 129,
   "id": "e37c914d",
   "metadata": {},
   "outputs": [
    {
     "name": "stdout",
     "output_type": "stream",
     "text": [
      "JI    Jieun\n",
      "SO     Sona\n",
      "SE    Jesse\n",
      "MI     Mike\n",
      "KI      Kim\n",
      "SO     Soom\n",
      "KB       KB\n",
      "Name: name, dtype: object\n"
     ]
    },
    {
     "data": {
      "text/plain": [
       "pandas.core.series.Series"
      ]
     },
     "execution_count": 129,
     "metadata": {},
     "output_type": "execute_result"
    }
   ],
   "source": [
    "# Select a column as a Pandas Series\n",
    "print(pd_grade3['name'])\n",
    "name_s = pd_grade3['name']\n",
    "type(name_s)"
   ]
  },
  {
   "cell_type": "code",
   "execution_count": 130,
   "id": "989ec4f2",
   "metadata": {},
   "outputs": [
    {
     "name": "stdout",
     "output_type": "stream",
     "text": [
      "     name\n",
      "JI  Jieun\n",
      "SO   Sona\n",
      "SE  Jesse\n",
      "MI   Mike\n",
      "KI    Kim\n",
      "SO   Soom\n",
      "KB     KB\n"
     ]
    },
    {
     "data": {
      "text/plain": [
       "pandas.core.frame.DataFrame"
      ]
     },
     "execution_count": 130,
     "metadata": {},
     "output_type": "execute_result"
    }
   ],
   "source": [
    "# Select a column as Pandas dataframe\n",
    "print(pd_grade3[['name']])\n",
    "name_df=pd_grade3[['name']]\n",
    "type(name_df)"
   ]
  },
  {
   "cell_type": "code",
   "execution_count": 131,
   "id": "925ff1b0",
   "metadata": {},
   "outputs": [
    {
     "name": "stdout",
     "output_type": "stream",
     "text": [
      "   grade country\n",
      "JI     A   Korea\n",
      "SO    A+  Russia\n",
      "SE    B+     USA\n",
      "MI     B  France\n",
      "KI    A-     USA\n",
      "SO     S  Brazil\n",
      "KB   A++  Canada\n"
     ]
    },
    {
     "data": {
      "text/plain": [
       "pandas.core.frame.DataFrame"
      ]
     },
     "execution_count": 131,
     "metadata": {},
     "output_type": "execute_result"
    }
   ],
   "source": [
    "# select columns as Pandas data frame\n",
    "print(pd_grade3[['grade', 'country']])\n",
    "df = pd_grade3[['grade', 'country']]\n",
    "type(df)"
   ]
  },
  {
   "cell_type": "markdown",
   "id": "441136b2",
   "metadata": {},
   "source": [
    "**Row Access**"
   ]
  },
  {
   "cell_type": "code",
   "execution_count": 132,
   "id": "1ef5487f",
   "metadata": {},
   "outputs": [
    {
     "name": "stdout",
     "output_type": "stream",
     "text": [
      "     name grade country\n",
      "JI  Jieun     A   Korea\n",
      "SO   Sona    A+  Russia\n",
      "SE  Jesse    B+     USA\n",
      "MI   Mike     B  France\n",
      "KI    Kim    A-     USA\n",
      "SO   Soom     S  Brazil\n",
      "KB     KB   A++  Canada\n"
     ]
    }
   ],
   "source": [
    "print(pd_grade3)"
   ]
  },
  {
   "cell_type": "code",
   "execution_count": 133,
   "id": "68ebcca0",
   "metadata": {},
   "outputs": [
    {
     "name": "stdout",
     "output_type": "stream",
     "text": [
      "     name grade country\n",
      "JI  Jieun     A   Korea\n",
      "SO   Sona    A+  Russia\n",
      "SE  Jesse    B+     USA\n"
     ]
    }
   ],
   "source": [
    "# Select first three observations from pd_grade3\n",
    "print(pd_grade3[0:3])"
   ]
  },
  {
   "cell_type": "code",
   "execution_count": 134,
   "id": "194a13f5",
   "metadata": {},
   "outputs": [
    {
     "name": "stdout",
     "output_type": "stream",
     "text": [
      "    name grade country\n",
      "KI   Kim    A-     USA\n",
      "SO  Soom     S  Brazil\n"
     ]
    }
   ],
   "source": [
    "# select fifth, sixth obervations\n",
    "print(pd_grade3[4:6])"
   ]
  },
  {
   "cell_type": "markdown",
   "id": "c3b30b83",
   "metadata": {},
   "source": [
    "**6. loc and iloc**"
   ]
  },
  {
   "cell_type": "code",
   "execution_count": 135,
   "id": "4bc41b4c",
   "metadata": {},
   "outputs": [
    {
     "name": "stdout",
     "output_type": "stream",
     "text": [
      "     name grade country\n",
      "JI  Jieun     A   Korea\n",
      "SO   Sona    A+  Russia\n",
      "SE  Jesse    B+     USA\n",
      "MI   Mike     B  France\n",
      "KI    Kim    A-     USA\n",
      "SO   Soom     S  Brazil\n",
      "KB     KB   A++  Canada\n"
     ]
    }
   ],
   "source": [
    "print(pd_grade3)"
   ]
  },
  {
   "cell_type": "code",
   "execution_count": 136,
   "id": "9adfb956",
   "metadata": {},
   "outputs": [],
   "source": [
    "# with iloc: Purely integer-location based indexing for selection by position."
   ]
  },
  {
   "cell_type": "markdown",
   "id": "69907804",
   "metadata": {},
   "source": [
    "https://pandas.pydata.org/docs/reference/api/pandas.DataFrame.iloc.html"
   ]
  },
  {
   "cell_type": "code",
   "execution_count": 137,
   "id": "272b75de",
   "metadata": {},
   "outputs": [
    {
     "name": "stdout",
     "output_type": "stream",
     "text": [
      "     name grade country\n",
      "JI  Jieun     A   Korea\n"
     ]
    }
   ],
   "source": [
    "print(pd_grade3.iloc[[0]])"
   ]
  },
  {
   "cell_type": "code",
   "execution_count": 138,
   "id": "9a40104f",
   "metadata": {
    "scrolled": false
   },
   "outputs": [
    {
     "name": "stdout",
     "output_type": "stream",
     "text": [
      "     name\n",
      "JI  Jieun\n",
      "SO   Sona\n",
      "SE  Jesse\n",
      "MI   Mike\n",
      "KI    Kim\n",
      "SO   Soom\n",
      "KB     KB\n"
     ]
    }
   ],
   "source": [
    "print(pd_grade3.iloc[:, [0]])   # dataframe"
   ]
  },
  {
   "cell_type": "code",
   "execution_count": 139,
   "id": "f5a347be",
   "metadata": {},
   "outputs": [
    {
     "name": "stdout",
     "output_type": "stream",
     "text": [
      "JI    Jieun\n",
      "SO     Sona\n",
      "SE    Jesse\n",
      "MI     Mike\n",
      "KI      Kim\n",
      "SO     Soom\n",
      "KB       KB\n",
      "Name: name, dtype: object\n"
     ]
    }
   ],
   "source": [
    "print(pd_grade3.iloc[:, 0])  #panda series"
   ]
  },
  {
   "cell_type": "code",
   "execution_count": 140,
   "id": "586dbd24",
   "metadata": {},
   "outputs": [
    {
     "data": {
      "text/plain": [
       "pandas.core.series.Series"
      ]
     },
     "execution_count": 140,
     "metadata": {},
     "output_type": "execute_result"
    }
   ],
   "source": [
    "type(pd_grade3.iloc[:, 0])"
   ]
  },
  {
   "cell_type": "code",
   "execution_count": 141,
   "id": "4c038f25",
   "metadata": {},
   "outputs": [],
   "source": [
    "# with loc: Access a group of rows and columns by label(s) or a boolean array."
   ]
  },
  {
   "cell_type": "code",
   "execution_count": 142,
   "id": "96c156e2",
   "metadata": {},
   "outputs": [
    {
     "name": "stdout",
     "output_type": "stream",
     "text": [
      "     name grade country\n",
      "JI  Jieun     A   Korea\n",
      "SO   Sona    A+  Russia\n",
      "SE  Jesse    B+     USA\n",
      "MI   Mike     B  France\n",
      "KI    Kim    A-     USA\n",
      "SO   Soom     S  Brazil\n",
      "KB     KB   A++  Canada\n"
     ]
    }
   ],
   "source": [
    "print(pd_grade3)"
   ]
  },
  {
   "cell_type": "code",
   "execution_count": 143,
   "id": "ec8d912b",
   "metadata": {
    "scrolled": false
   },
   "outputs": [
    {
     "name": "stdout",
     "output_type": "stream",
     "text": [
      "     name grade country\n",
      "JI  Jieun     A   Korea\n"
     ]
    }
   ],
   "source": [
    "#loc (label-based)\n",
    "print(pd_grade3.loc[['JI']])"
   ]
  },
  {
   "cell_type": "code",
   "execution_count": 144,
   "id": "b0d3205e",
   "metadata": {},
   "outputs": [
    {
     "name": "stdout",
     "output_type": "stream",
     "text": [
      "     name\n",
      "JI  Jieun\n",
      "SO   Sona\n",
      "SE  Jesse\n",
      "MI   Mike\n",
      "KI    Kim\n",
      "SO   Soom\n",
      "KB     KB\n"
     ]
    }
   ],
   "source": [
    "print(pd_grade3.loc[:, ['name']])"
   ]
  },
  {
   "cell_type": "markdown",
   "id": "37754cc7",
   "metadata": {},
   "source": [
    "**Application with loc and iloc**"
   ]
  },
  {
   "cell_type": "code",
   "execution_count": 145,
   "id": "acad6e59",
   "metadata": {},
   "outputs": [
    {
     "name": "stdout",
     "output_type": "stream",
     "text": [
      "     name grade country\n",
      "JI  Jieun     A   Korea\n",
      "SO   Sona    A+  Russia\n",
      "SE  Jesse    B+     USA\n",
      "MI   Mike     B  France\n",
      "KI    Kim    A-     USA\n",
      "SO   Soom     S  Brazil\n",
      "KB     KB   A++  Canada\n"
     ]
    }
   ],
   "source": [
    "print(pd_grade3)"
   ]
  },
  {
   "cell_type": "code",
   "execution_count": 146,
   "id": "602bbb44",
   "metadata": {},
   "outputs": [
    {
     "name": "stdout",
     "output_type": "stream",
     "text": [
      "     name grade country\n",
      "JI  Jieun     A   Korea\n"
     ]
    }
   ],
   "source": [
    "print(pd_grade3.iloc[[0]])"
   ]
  },
  {
   "cell_type": "code",
   "execution_count": 147,
   "id": "8eb10942",
   "metadata": {
    "scrolled": true
   },
   "outputs": [
    {
     "name": "stdout",
     "output_type": "stream",
     "text": [
      "     name grade\n",
      "JI  Jieun     A\n",
      "SO   Sona    A+\n",
      "SE  Jesse    B+\n",
      "MI   Mike     B\n",
      "KI    Kim    A-\n",
      "SO   Soom     S\n",
      "KB     KB   A++\n"
     ]
    }
   ],
   "source": [
    "# with iloc\n",
    "print(pd_grade3.iloc[:, [0,1]])"
   ]
  },
  {
   "cell_type": "code",
   "execution_count": 148,
   "id": "e11a5357",
   "metadata": {
    "scrolled": true
   },
   "outputs": [
    {
     "name": "stdout",
     "output_type": "stream",
     "text": [
      "   grade\n",
      "JI     A\n"
     ]
    }
   ],
   "source": [
    "print(pd_grade3.iloc[[0], [1]])"
   ]
  },
  {
   "cell_type": "code",
   "execution_count": 149,
   "id": "39a74a94",
   "metadata": {},
   "outputs": [
    {
     "name": "stdout",
     "output_type": "stream",
     "text": [
      "   grade\n",
      "JI     A\n",
      "SO    A+\n",
      "SO     S\n"
     ]
    }
   ],
   "source": [
    "# with loc\n",
    "print(pd_grade3.loc[['JI','SO'], ['grade']])"
   ]
  },
  {
   "cell_type": "code",
   "execution_count": 150,
   "id": "c4b47637",
   "metadata": {
    "scrolled": true
   },
   "outputs": [
    {
     "name": "stdout",
     "output_type": "stream",
     "text": [
      "     name grade\n",
      "JI  Jieun     A\n",
      "SO   Sona    A+\n",
      "SE  Jesse    B+\n",
      "MI   Mike     B\n",
      "KI    Kim    A-\n",
      "SO   Soom     S\n",
      "KB     KB   A++\n"
     ]
    }
   ],
   "source": [
    "print(pd_grade3.loc[:, ['name', 'grade' ]])"
   ]
  }
 ],
 "metadata": {
  "kernelspec": {
   "display_name": "Python 3 (ipykernel)",
   "language": "python",
   "name": "python3"
  },
  "language_info": {
   "codemirror_mode": {
    "name": "ipython",
    "version": 3
   },
   "file_extension": ".py",
   "mimetype": "text/x-python",
   "name": "python",
   "nbconvert_exporter": "python",
   "pygments_lexer": "ipython3",
   "version": "3.9.15"
  }
 },
 "nbformat": 4,
 "nbformat_minor": 5
}
